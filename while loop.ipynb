{
 "cells": [
  {
   "cell_type": "markdown",
   "id": "949e53a7",
   "metadata": {},
   "source": [
    "## While loop"
   ]
  },
  {
   "cell_type": "code",
   "execution_count": 1,
   "id": "8050b7f1",
   "metadata": {},
   "outputs": [
    {
     "name": "stdout",
     "output_type": "stream",
     "text": [
      "1\n",
      "2\n",
      "3\n",
      "4\n",
      "5\n",
      "6\n",
      "7\n",
      "8\n",
      "9\n",
      "10\n"
     ]
    }
   ],
   "source": [
    "i=1\n",
    "while i<11:\n",
    "    print(i)\n",
    "    i=i+1\n"
   ]
  },
  {
   "cell_type": "markdown",
   "id": "89e8d760",
   "metadata": {},
   "source": [
    "#### Print sum of all bills entered by the user"
   ]
  },
  {
   "cell_type": "code",
   "execution_count": 2,
   "id": "66748c04",
   "metadata": {},
   "outputs": [
    {
     "name": "stdout",
     "output_type": "stream",
     "text": [
      "enter a bill123\n",
      "enter next bill\n",
      "123\n",
      "enter next bill\n",
      "0\n",
      "sum is  246\n"
     ]
    }
   ],
   "source": [
    "bill=int(input(\"enter a bill\"))\n",
    "sum=bill\n",
    "while bill!=0:\n",
    "    print(\"enter next bill\")\n",
    "    bill=int(input())\n",
    "    sum=sum+bill\n",
    "print(\"sum is \",sum)    "
   ]
  },
  {
   "cell_type": "code",
   "execution_count": 9,
   "id": "e65a757f",
   "metadata": {},
   "outputs": [
    {
     "name": "stdout",
     "output_type": "stream",
     "text": [
      "enter a vote\n",
      "enter number of time vote\n",
      "m\n",
      "enter number of time vote\n",
      "a\n",
      "enter number of time vote\n",
      "q\n",
      "alex: 1\n",
      "manu: 1\n"
     ]
    }
   ],
   "source": [
    "vote=\"m\"\n",
    "m_count=0\n",
    "a_count=0\n",
    "print(\"enter a vote\")\n",
    "while vote!=\"q\":\n",
    "    print(\"enter number of time vote\")\n",
    "    vote=input()\n",
    "    if vote ==\"m\":\n",
    "        m_count=m_count+1\n",
    "    elif vote==\"a\":\n",
    "        a_count=a_count+1\n",
    "print(\"alex:\",a_count)\n",
    "print(\"manu:\",m_count)\n",
    "    \n",
    "    \n",
    "    \n"
   ]
  },
  {
   "cell_type": "markdown",
   "id": "9b06d261",
   "metadata": {},
   "source": [
    "#### Getting distance and time from the user and calculate the speed ,if the user enters negative value for distance,repeat the question again"
   ]
  },
  {
   "cell_type": "code",
   "execution_count": 10,
   "id": "300b3480",
   "metadata": {},
   "outputs": [
    {
     "name": "stdout",
     "output_type": "stream",
     "text": [
      "enter a distance67\n",
      "enter a time6\n",
      "speed is= 11.166666666666666\n",
      "do you want to continue?\n",
      "yes\n",
      "enter a distance-9\n",
      "invalid distance\n",
      "enter a distance7\n",
      "enter a time8\n",
      "speed is= 0.875\n",
      "do you want to continue?\n",
      "no\n",
      "enter a distance67\n",
      "enter a time7\n",
      "speed is= 9.571428571428571\n",
      "do you want to continue?\n",
      "n\n"
     ]
    }
   ],
   "source": [
    "choice=\"y\"\n",
    "while choice!=\"n\":\n",
    "    distance=int(input(\"enter a distance\"))\n",
    "    if distance<0:\n",
    "        print(\"invalid distance\")\n",
    "        continue\n",
    "    t=int(input(\"enter a time\"))\n",
    "    s=distance/t\n",
    "    print(\"speed is=\",s)\n",
    "    print(\"do you want to continue?\")\n",
    "    choice=input()\n"
   ]
  },
  {
   "cell_type": "code",
   "execution_count": null,
   "id": "42449f91",
   "metadata": {},
   "outputs": [],
   "source": []
  }
 ],
 "metadata": {
  "kernelspec": {
   "display_name": "Python 3 (ipykernel)",
   "language": "python",
   "name": "python3"
  },
  "language_info": {
   "codemirror_mode": {
    "name": "ipython",
    "version": 3
   },
   "file_extension": ".py",
   "mimetype": "text/x-python",
   "name": "python",
   "nbconvert_exporter": "python",
   "pygments_lexer": "ipython3",
   "version": "3.11.4"
  }
 },
 "nbformat": 4,
 "nbformat_minor": 5
}
