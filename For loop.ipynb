{
 "cells": [
  {
   "cell_type": "markdown",
   "id": "eda55133",
   "metadata": {},
   "source": [
    "# for loop"
   ]
  },
  {
   "cell_type": "markdown",
   "id": "b40ac819",
   "metadata": {},
   "source": [
    "#### write a program to print a range.. we use range function()\n"
   ]
  },
  {
   "cell_type": "code",
   "execution_count": 2,
   "id": "b8318f3e",
   "metadata": {},
   "outputs": [
    {
     "name": "stdout",
     "output_type": "stream",
     "text": [
      "1\n",
      "2\n",
      "3\n",
      "4\n",
      "5\n",
      "6\n",
      "7\n",
      "8\n",
      "9\n",
      "10\n"
     ]
    }
   ],
   "source": [
    "for i in range(1,11):\n",
    "    print (i)"
   ]
  },
  {
   "cell_type": "code",
   "execution_count": 3,
   "id": "3f73fe0d",
   "metadata": {},
   "outputs": [
    {
     "name": "stdout",
     "output_type": "stream",
     "text": [
      "trupti\n",
      "trupti\n",
      "trupti\n",
      "trupti\n",
      "trupti\n",
      "trupti\n",
      "trupti\n",
      "trupti\n",
      "trupti\n",
      "trupti\n",
      "trupti\n"
     ]
    }
   ],
   "source": [
    "for i in range(0,11):\n",
    "    print(\"trupti\")\n"
   ]
  },
  {
   "cell_type": "markdown",
   "id": "a42ee0a4",
   "metadata": {},
   "source": [
    "#### write a program to print 50 to 12 in 2 number of difference"
   ]
  },
  {
   "cell_type": "code",
   "execution_count": 4,
   "id": "fab5eb14",
   "metadata": {
    "scrolled": false
   },
   "outputs": [
    {
     "name": "stdout",
     "output_type": "stream",
     "text": [
      "50\n",
      "48\n",
      "46\n",
      "44\n",
      "42\n",
      "40\n",
      "38\n",
      "36\n",
      "34\n",
      "32\n",
      "30\n",
      "28\n",
      "26\n",
      "24\n",
      "22\n",
      "20\n",
      "18\n",
      "16\n",
      "14\n",
      "12\n"
     ]
    }
   ],
   "source": [
    "for i in range(50,11,-2):\n",
    "    print(i)\n"
   ]
  },
  {
   "cell_type": "markdown",
   "id": "3b97dbba",
   "metadata": {},
   "source": [
    "#### square of a number"
   ]
  },
  {
   "cell_type": "code",
   "execution_count": 1,
   "id": "635ab825",
   "metadata": {},
   "outputs": [
    {
     "name": "stdout",
     "output_type": "stream",
     "text": [
      "1\n",
      "16\n",
      "64\n",
      "9604\n",
      "4489\n",
      "3136\n"
     ]
    }
   ],
   "source": [
    "n=[1,4,8,98,67,56]\n",
    "for i in n:\n",
    "    print(i**2)"
   ]
  },
  {
   "cell_type": "markdown",
   "id": "b78a9dcd",
   "metadata": {},
   "source": [
    "#### sum of number"
   ]
  },
  {
   "cell_type": "code",
   "execution_count": 3,
   "id": "89a3aac9",
   "metadata": {
    "scrolled": true
   },
   "outputs": [
    {
     "name": "stdout",
     "output_type": "stream",
     "text": [
      "enter a number10\n",
      "sum= 55\n"
     ]
    }
   ],
   "source": [
    "total=0\n",
    "n=int(input(\"enter a number\"))      #suppose we get a number 10\n",
    "for i in range(1,n+1):                #we diside our range 1 it means our loop star with value 1 \n",
    "    total +=i                           #:1+2+3+4+5+6+7+8+9+10 our loop contitue start \n",
    "print(\"sum=\",total)\n"
   ]
  },
  {
   "cell_type": "markdown",
   "id": "78c06148",
   "metadata": {},
   "source": [
    "#### Factorial"
   ]
  },
  {
   "cell_type": "code",
   "execution_count": 2,
   "id": "09207ccf",
   "metadata": {},
   "outputs": [
    {
     "name": "stdout",
     "output_type": "stream",
     "text": [
      "eneter a number4\n",
      "24\n"
     ]
    }
   ],
   "source": [
    "factorial=1\n",
    "n=int(input(\"eneter a number\"))\n",
    "for i in range(1,n+1):\n",
    "    factorial=factorial*i\n",
    "print(factorial)    \n"
   ]
  },
  {
   "cell_type": "code",
   "execution_count": 7,
   "id": "aee73791",
   "metadata": {},
   "outputs": [
    {
     "name": "stdout",
     "output_type": "stream",
     "text": [
      " enter a number5\n",
      "sum 14\n"
     ]
    }
   ],
   "source": [
    "total=0\n",
    "w=int(input(\" enter a number\"))\n",
    "for i in range(2,w+ 1 ):\n",
    "    total += i\n",
    "print(\"sum\",total)    \n"
   ]
  },
  {
   "cell_type": "markdown",
   "id": "7aba484e",
   "metadata": {},
   "source": [
    "#### table of a number"
   ]
  },
  {
   "cell_type": "code",
   "execution_count": 14,
   "id": "f75b044e",
   "metadata": {},
   "outputs": [
    {
     "name": "stdout",
     "output_type": "stream",
     "text": [
      "enter a table value8\n",
      "8\n",
      "16\n",
      "24\n",
      "32\n",
      "40\n",
      "48\n",
      "56\n",
      "64\n",
      "72\n",
      "80\n"
     ]
    }
   ],
   "source": [
    "t=int(input(\"enter a table value\"))\n",
    "for i in range(1,11):\n",
    "    print(t*i)\n",
    "    \n",
    "    #print(f\"{t} x  {i}={t * i}\")\n",
    "         \n",
    "          \n",
    "   \n",
    " "
   ]
  },
  {
   "cell_type": "markdown",
   "id": "0cd0e15c",
   "metadata": {},
   "source": [
    "#### count of a variable"
   ]
  },
  {
   "cell_type": "code",
   "execution_count": 4,
   "id": "28355cc9",
   "metadata": {},
   "outputs": [
    {
     "name": "stdout",
     "output_type": "stream",
     "text": [
      "enter a word:=ppython\n",
      "enter a target_charp\n",
      "2\n"
     ]
    }
   ],
   "source": [
    "text=str(input(\"enter a word:=\"))\n",
    "target_char=input(\"enter a target_char\")\n",
    "count=0\n",
    "for char in text:\n",
    "    if target_char==char:\n",
    "        count=count+1\n",
    "print(count)        \n",
    "    "
   ]
  },
  {
   "cell_type": "markdown",
   "id": "9a6532ea",
   "metadata": {},
   "source": [
    "#### check  gred"
   ]
  },
  {
   "cell_type": "code",
   "execution_count": null,
   "id": "193e2b0d",
   "metadata": {},
   "outputs": [],
   "source": [
    "n=[35,50,60,75,85,95]\n"
   ]
  },
  {
   "cell_type": "markdown",
   "id": "c60d167c",
   "metadata": {},
   "source": [
    "#### PRIME OR NOT"
   ]
  },
  {
   "cell_type": "code",
   "execution_count": 12,
   "id": "13fbd60a",
   "metadata": {},
   "outputs": [
    {
     "name": "stdout",
     "output_type": "stream",
     "text": [
      "prime\n"
     ]
    }
   ],
   "source": [
    "num=7\n",
    "for i in range(2,num):\n",
    "    if num%i==0:\n",
    "        print(\"not prime\")\n",
    "        break\n",
    "else:\n",
    "    print(\"prime\")\n",
    "        \n",
    "    \n",
    " "
   ]
  },
  {
   "cell_type": "markdown",
   "id": "53515d32",
   "metadata": {},
   "source": [
    "### printing pattern "
   ]
  },
  {
   "cell_type": "markdown",
   "id": "03c3602f",
   "metadata": {},
   "source": [
    "#### we require 5 things\n",
    "    .input:How many rows\n",
    "     .for loop:1 for rows and 1 for colums\n",
    "     .range(start,stop)\n",
    "     .print()\n",
    "     . end=**"
   ]
  },
  {
   "cell_type": "markdown",
   "id": "d42f033c",
   "metadata": {},
   "source": [
    "#### use of end=\"\"     use end we  have ans in one line"
   ]
  },
  {
   "cell_type": "code",
   "execution_count": 13,
   "id": "1367bb88",
   "metadata": {},
   "outputs": [
    {
     "name": "stdout",
     "output_type": "stream",
     "text": [
      "hello hi\n"
     ]
    }
   ],
   "source": [
    "print(\"hello\",end=\" \")\n",
    "print(\"hi\")"
   ]
  },
  {
   "cell_type": "code",
   "execution_count": 10,
   "id": "fcf0ec28",
   "metadata": {},
   "outputs": [
    {
     "name": "stdout",
     "output_type": "stream",
     "text": [
      "*****\n",
      "*****\n",
      "*****\n",
      "*****\n",
      "*****\n"
     ]
    }
   ],
   "source": [
    "size=5\n",
    "for i in range (size):\n",
    "    print(\"*\" * size)\n",
    "\n",
    " "
   ]
  },
  {
   "cell_type": "code",
   "execution_count": 18,
   "id": "f0051276",
   "metadata": {},
   "outputs": [
    {
     "name": "stdout",
     "output_type": "stream",
     "text": [
      "enter a number5\n",
      "* \n",
      "* * \n",
      "* * * \n",
      "* * * * \n"
     ]
    }
   ],
   "source": [
    "num=int(input(\"enter a number\"))\n",
    "for row in range (1,num):\n",
    "    for col in range(row):\n",
    "        print(\"*\",end=\" \")\n",
    "    print()        \n",
    "        \n",
    "    \n"
   ]
  },
  {
   "cell_type": "code",
   "execution_count": 20,
   "id": "e01bede2",
   "metadata": {},
   "outputs": [
    {
     "name": "stdout",
     "output_type": "stream",
     "text": [
      "enter a number8\n",
      "* * * * * * * * * \n",
      "* * * * * * * * * \n",
      "* * * * * * * * * \n",
      "* * * * * * * * * \n",
      "* * * * * * * * * \n",
      "* * * * * * * * * \n"
     ]
    }
   ],
   "source": [
    "num=int(input(\"enter a number\"))\n",
    "for  in range(row):\n",
    "    for row in range (-1,num):\n",
    "        print(\"*\",end=\" \")\n",
    "    print()        \n",
    "        "
   ]
  },
  {
   "cell_type": "code",
   "execution_count": null,
   "id": "4202c9ac",
   "metadata": {},
   "outputs": [],
   "source": []
  }
 ],
 "metadata": {
  "kernelspec": {
   "display_name": "Python 3 (ipykernel)",
   "language": "python",
   "name": "python3"
  },
  "language_info": {
   "codemirror_mode": {
    "name": "ipython",
    "version": 3
   },
   "file_extension": ".py",
   "mimetype": "text/x-python",
   "name": "python",
   "nbconvert_exporter": "python",
   "pygments_lexer": "ipython3",
   "version": "3.11.4"
  }
 },
 "nbformat": 4,
 "nbformat_minor": 5
}
