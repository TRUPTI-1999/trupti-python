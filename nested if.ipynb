{
 "cells": [
  {
   "cell_type": "markdown",
   "id": "0885fb58",
   "metadata": {},
   "source": [
    "#### to FINd voting age and voting id using Nested condition"
   ]
  },
  {
   "cell_type": "code",
   "execution_count": 7,
   "id": "18e9606a",
   "metadata": {},
   "outputs": [
    {
     "name": "stdout",
     "output_type": "stream",
     "text": [
      "enter a valid age12\n",
      "you have voting id card?(yes/no)yes\n",
      "u r not eligible for vote\n"
     ]
    }
   ],
   "source": [
    "age=int(input(\"enter a valid age\"))\n",
    "voting_id=input(\"you have voting id card?(yes/no)\").lower()\n",
    "if age>=18:\n",
    "    if voting_id==\"yes\":\n",
    "        print(\"u r eligible for voting\")\n",
    "        \n",
    "    else:\n",
    "        print(\"plzz bring voting card\")\n",
    "        \n",
    "        \n",
    "else:\n",
    "     print(\"u r not eligible for vote\")\n",
    "\n",
    "    \n",
    "    \n",
    "    \n",
    "    "
   ]
  },
  {
   "cell_type": "markdown",
   "id": "548873fe",
   "metadata": {},
   "source": [
    "#### custer give ticket foe our age"
   ]
  },
  {
   "cell_type": "code",
   "execution_count": 10,
   "id": "244f0537",
   "metadata": {},
   "outputs": [
    {
     "name": "stdout",
     "output_type": "stream",
     "text": [
      "enter custmer age3\n",
      "enter custer age type (adult/child)child\n",
      "10\n"
     ]
    }
   ],
   "source": [
    "custmer_age=int(input(\"enter custmer age\"))\n",
    "ticket_type=input(\"enter custer age type (adult/child)\").upper\n",
    "if custmer_age<15:\n",
    "    if ticket_type==\"child\":\n",
    "         print(\"Rs 5\")\n",
    "    \n",
    "    else:\n",
    "        print(\"10\")\n",
    "else:\n",
    "    print(\"30\")\n",
    "        \n",
    "        \n",
    "    \n",
    "\n"
   ]
  },
  {
   "cell_type": "code",
   "execution_count": 1,
   "id": "4f806b12",
   "metadata": {},
   "outputs": [
    {
     "name": "stdout",
     "output_type": "stream",
     "text": [
      "enter a gender(male/female)female\n",
      "enter a city :nagpur\n",
      "100.0\n"
     ]
    }
   ],
   "source": [
    "gender_type=input(\"enter a gender(male/female)\").lower()\n",
    "city=input(\"enter a city :\")\n",
    "nagpur=200\n",
    "chandrapur=250\n",
    "wardha=300\n",
    "wani_ticket=200\n",
    "yevatmal_ticket=500\n",
    "pune_ticket=800\n",
    "if gender_type==\"female\":\n",
    "    nagpur_ticket=nagpur/2\n",
    "    chandrapur_ticket=chandrapur/2\n",
    "    print(nagpur_ticket)\n",
    "else:\n",
    "    print(nagpur)\n",
    "    if gender_type==\"female\":\n",
    "        chandrapur_ticket=chandrapur/2\n",
    "        print(chandrapur_ticket)\n",
    "    else:\n",
    "        print(chandrapur)\n",
    "        if gender_type==\"female\":\n",
    "            wardha_ticket=wardha/2\n",
    "            print(wardha_ticket)\n",
    "        else:\n",
    "            print(wardha)\n",
    "#if gender_type==\"female\":\n",
    "    #wani_ticket=wani_ticket/2\n",
    "    #print(wani_ticket)\n",
    "#if gender_type==\"female\":\n",
    "    #yevatmal_ticket=yevatmal_ticket/2\n",
    "    #print(yevatmal_ticket)\n",
    "#if gender_type==\"female\":\n",
    "    #pune_ticket=pune_ticket/2\n",
    "    #print(pune_ticket)\n",
    "#else:\n",
    "    #print(pune_ticket)\n",
    "#else:\n",
    "    #print(yevatmal_ticket)\n",
    "#else:\n",
    "    #print(wani_ticket)\n",
    "\n",
    "#else:\n",
    "    #print(chandrapur_ticket)\n"
   ]
  },
  {
   "cell_type": "code",
   "execution_count": null,
   "id": "1f621855",
   "metadata": {},
   "outputs": [],
   "source": [
    "gender_type=input(\"enter a gender(male/female)\").lower()\n",
    "city=input(\"enter a city :\")\n",
    "nagpur_ticket=200\n",
    "if gender_type ==\"female\":\n",
    "if nagpur_tickets=nagpur_ticket/2\n",
    "    print(nagpur_tickets)\n",
    "else:\n",
    "    print(nagpur_ticket)\n",
    "else: \n",
    "    pass\n"
   ]
  },
  {
   "cell_type": "markdown",
   "id": "b80ead9b",
   "metadata": {},
   "source": [
    "#### find ticket(male /female) "
   ]
  },
  {
   "cell_type": "code",
   "execution_count": 24,
   "id": "cc0b98a8",
   "metadata": {},
   "outputs": [
    {
     "name": "stdout",
     "output_type": "stream",
     "text": [
      "enter a gender(male/female)male\n",
      "enter a city :bhandara\n",
      "male-full ticket 90\n"
     ]
    }
   ],
   "source": [
    "gender_type=input(\"enter a gender(male/female)\").lower()\n",
    "city=input(\"enter a city :\")\n",
    "nagpur=200\n",
    "chandrapur=250\n",
    "wardha=300\n",
    "pune=800\n",
    "bhadrawati=40\n",
    "chimur=100\n",
    "yevatmal=300\n",
    "bhandara=90\n",
    "ratnagiri=2000\n",
    "\n",
    "if city==\"nagpur\":\n",
    "    if gender_type==\"female\":\n",
    "        ticket=nagpur/2\n",
    "        print(\"female-half ticket\",ticket)\n",
    "    else:\n",
    "        print(\"male-full ticket\",nagpur)\n",
    "else:\n",
    "    pass\n",
    "if city==\"chandrapur\":\n",
    "    if gender_type==\"female\":\n",
    "        ticket=chandrapur/2\n",
    "        print(\"female-half ticket\",ticket)\n",
    "    else:\n",
    "        print(\"male-full ticket\",chandrapur)\n",
    "else:\n",
    "    pass\n",
    "if city==\"wardha\":\n",
    "    if gender_type==\"female\":\n",
    "        ticket=wardha/2\n",
    "        print(\"female-half ticket\",ticket)\n",
    "    else:\n",
    "        print(\"male-full ticket\",wardha)\n",
    "else:\n",
    "    pass\n",
    "if city==\"pune\":\n",
    "    if gender_type==\"female\":\n",
    "        ticket=pune/2\n",
    "        print(\"female-half ticket\",ticket)\n",
    "    else:\n",
    "        print(\"male-full ticket\",pune)        \n",
    "else:\n",
    "    pass\n",
    "if city==\"bhadrawati\":\n",
    "    if gender_type==\"female\":\n",
    "        ticket=bhadrawati/2\n",
    "        print(\"female-half ticket\",ticket)\n",
    "    else:\n",
    "        print(\"male-full ticket\",bhadrawati)        \n",
    "else:\n",
    "    pass\n",
    "if city==\"chimur\":\n",
    "    if gender_type==\"female\":\n",
    "        ticket=chimur/2\n",
    "        print(\"female-half ticket\",ticket)\n",
    "    else:\n",
    "        print(\"male-full ticket\",chimur)        \n",
    "else:\n",
    "    pass\n",
    "if city==\"yevatmal\":\n",
    "    if gender_type==\"female\":\n",
    "        ticket=yevatmal/2\n",
    "        print(\"female-half ticket\",ticket)\n",
    "    else:\n",
    "        print(\"male-full ticket\",yevatmal)        \n",
    "else:\n",
    "    pass\n",
    "if city==\"bhandara\":\n",
    "    if gender_type==\"female\":\n",
    "        ticket=bhandara/2\n",
    "        print(\"female-half ticket\",ticket)\n",
    "    else:\n",
    "        print(\"male-full ticket\",bhandara)        \n",
    "else:\n",
    "    pass\n",
    "if city==\"ratnagiri\":\n",
    "    if gender_type==\"female\":\n",
    "        ticket=ratnagiri/2\n",
    "        print(\"female-half ticket\",ticket)\n",
    "    else:\n",
    "        print(\"male-full ticket\",ratnagiri)        \n",
    "else:\n",
    "    pass\n",
    "        "
   ]
  },
  {
   "cell_type": "code",
   "execution_count": 23,
   "id": "53fa2660",
   "metadata": {},
   "outputs": [
    {
     "name": "stdout",
     "output_type": "stream",
     "text": [
      "Python 3.11.4\n"
     ]
    }
   ],
   "source": [
    "!python  --version"
   ]
  },
  {
   "cell_type": "code",
   "execution_count": null,
   "id": "507f2109",
   "metadata": {},
   "outputs": [],
   "source": []
  }
 ],
 "metadata": {
  "kernelspec": {
   "display_name": "Python 3 (ipykernel)",
   "language": "python",
   "name": "python3"
  },
  "language_info": {
   "codemirror_mode": {
    "name": "ipython",
    "version": 3
   },
   "file_extension": ".py",
   "mimetype": "text/x-python",
   "name": "python",
   "nbconvert_exporter": "python",
   "pygments_lexer": "ipython3",
   "version": "3.11.4"
  }
 },
 "nbformat": 4,
 "nbformat_minor": 5
}
