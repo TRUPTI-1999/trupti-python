{
 "cells": [
  {
   "cell_type": "markdown",
   "id": "eb307573",
   "metadata": {},
   "source": [
    "# if-elif"
   ]
  },
  {
   "cell_type": "markdown",
   "id": "190c9439",
   "metadata": {},
   "source": [
    "### 1. Simple calculator"
   ]
  },
  {
   "cell_type": "code",
   "execution_count": 2,
   "id": "92533f7f",
   "metadata": {},
   "outputs": [
    {
     "name": "stdout",
     "output_type": "stream",
     "text": [
      "Enter the first number: 45\n",
      "Enter an operator (+, -, *, /): +\n",
      "Enter the second number: 56\n",
      "Addition of 45 and 56 is: 101\n"
     ]
    }
   ],
   "source": [
    "num1 = int(input(\"Enter the first number: \"))\n",
    "operator = input(\"Enter an operator (+, -, *, /): \")\n",
    "num2 = int(input(\"Enter the second number: \"))\n",
    "\n",
    "if operator == \"+\":\n",
    "    result = num1 + num2\n",
    "    print(\"Addition of\",num1, \"and\", num2, \"is:\",result)\n",
    "elif operator == \"-\":\n",
    "    result = num1 - num2\n",
    "    print(\"Substraction of\",num1 ,\"and\", num2, \"is:\",result)\n",
    "elif operator == \"*\":\n",
    "    result = num1 * num2\n",
    "    print(\"Multiplication of\",num1, \"and\", num2, \"is:\",result)\n",
    "elif operator == \"/\":\n",
    "    result = num1 / num2\n",
    "    print(\"division of\",num1,\"and\", num2, \"is:\",result)\n",
    "else:\n",
    "    print(\"Invalid operator\")\n",
    "    \n",
    "\n"
   ]
  },
  {
   "cell_type": "code",
   "execution_count": 3,
   "id": "8e5a973a",
   "metadata": {},
   "outputs": [
    {
     "name": "stdout",
     "output_type": "stream",
     "text": [
      "enter a num123\n",
      "enter a num256\n",
      "enter a num357\n",
      "enter an operator(+,-,*,%)+\n",
      "addition of23 and 56 is 57 136\n"
     ]
    }
   ],
   "source": [
    "num1=int(input(\"enter a num1\"))\n",
    "num2=int(input(\"enter a num2\"))\n",
    "num3=int(input(\"enter a num3\"))\n",
    "operator=input(\"enter an operator(+,-,*,%)\")\n",
    "if operator==\"+\":\n",
    "    result=num1+num2+num3\n",
    "    print(f\"addition of{num1} and {num2} is {num3}\",result)\n",
    "elif operator==\"-\":\n",
    "    result=num1-num2-num3\n",
    "    print(f\"substraction of{num1} and {num2} is {num3}\",result)\n",
    "elif operator==\"*\":\n",
    "    result=num1*num2*num3\n",
    "    print(f\"multiplication of{num1} and {num2} is {num3}\",result)\n",
    "elif operator==\"%\":\n",
    "    result=num1%num2%num3\n",
    "    print(f\"Division of{num1} and {num2} is {num3}\",result)\n",
    "else:\n",
    "    print(\"invalid syntax\")\n",
    "    \n",
    "\n",
    "    \n",
    "    \n",
    "\n"
   ]
  },
  {
   "cell_type": "markdown",
   "id": "87951448",
   "metadata": {},
   "source": [
    "### 2.Student Grade checker"
   ]
  },
  {
   "cell_type": "code",
   "execution_count": 3,
   "id": "6656e81a",
   "metadata": {},
   "outputs": [
    {
     "name": "stdout",
     "output_type": "stream",
     "text": [
      "Enter the percentage: 90\n",
      "The student's grade is: A\n"
     ]
    }
   ],
   "source": [
    "percentage = float(input(\"Enter the percentage: \"))\n",
    "\n",
    "if percentage >= 90:\n",
    "    grade = 'A'\n",
    "elif percentage >= 80:\n",
    "    grade = 'B'\n",
    "elif percentage >= 70:\n",
    "    grade = 'C'\n",
    "elif percentage >= 60:\n",
    "    grade = 'D'\n",
    "else:\n",
    "    grade = 'F'\n",
    "\n",
    "print(f\"The student's grade is: {grade}\")\n"
   ]
  },
  {
   "cell_type": "code",
   "execution_count": 17,
   "id": "e0bdca6f",
   "metadata": {},
   "outputs": [
    {
     "name": "stdout",
     "output_type": "stream",
     "text": [
      "Enter the percentage: 80\n",
      "The student's grade is: B\n"
     ]
    }
   ],
   "source": [
    "percentage = float(input(\"Enter the percentage: \"))\n",
    "\n",
    "if percentage >= 90:\n",
    "    print(\"student got 'A' grade\")\n",
    "elif percentage >= 80:\n",
    "    grade = 'B'\n",
    "elif percentage >= 70:\n",
    "    grade = 'C'\n",
    "elif percentage >= 60:\n",
    "    grade = 'D'\n",
    "else:\n",
    "    grade = 'F'\n",
    "\n",
    "print(f\"The student's grade is: {grade}\")\n"
   ]
  },
  {
   "cell_type": "markdown",
   "id": "da7d719d",
   "metadata": {},
   "source": [
    "### 3.Positive and negative number checker"
   ]
  },
  {
   "cell_type": "code",
   "execution_count": 3,
   "id": "a7f705c1",
   "metadata": {},
   "outputs": [
    {
     "name": "stdout",
     "output_type": "stream",
     "text": [
      "Enter the number-8\n",
      "the no. is negative\n"
     ]
    }
   ],
   "source": [
    "a=int(input(\"Enter the number\"))\n",
    "if a>0:\n",
    "    print(\"the no. is positive\")\n",
    "elif a<0:\n",
    "        print(\"the no. is negative\")\n",
    "else:\n",
    "    print(\"The no. is zero\")"
   ]
  },
  {
   "cell_type": "markdown",
   "id": "0ec941fc",
   "metadata": {},
   "source": [
    "### 4. Marks checker"
   ]
  },
  {
   "cell_type": "code",
   "execution_count": 4,
   "id": "11ce4065",
   "metadata": {},
   "outputs": [
    {
     "name": "stdout",
     "output_type": "stream",
     "text": [
      "Enter the marks:45\n",
      "student got c grade\n"
     ]
    }
   ],
   "source": [
    "marks=int(input(\"Enter the marks:\"))\n",
    "\n",
    "if 90<=marks<=100:\n",
    "    print(\"Student got A+ grade\")\n",
    "elif 80<=marks<90:\n",
    "    print(\"Student got A grade\")\n",
    "elif 70<=marks<80:\n",
    "    print(\"student got B+ grade\")\n",
    "elif 60<=marks<70:\n",
    "    print(\"student got  B grade\")\n",
    "elif 50<=marks<60:\n",
    "    print(\"student got C+ grade\")\n",
    "elif 40<=marks<50:\n",
    "    print(\"student got c grade\")\n",
    "else:\n",
    "    print(\"student is fail\")"
   ]
  },
  {
   "cell_type": "markdown",
   "id": "487d6114",
   "metadata": {},
   "source": [
    "## 5.Example code to classify temperature ranges"
   ]
  },
  {
   "cell_type": "code",
   "execution_count": 29,
   "id": "d2648ca4",
   "metadata": {},
   "outputs": [
    {
     "name": "stdout",
     "output_type": "stream",
     "text": [
      "Enter the temperature in Celsius: -7\n",
      "The temperature is classified as: Freezing\n"
     ]
    }
   ],
   "source": [
    "temperature = float(input(\"Enter the temperature in Celsius: \"))\n",
    "\n",
    "if temperature < 0:\n",
    "    classification = \"Freezing\"\n",
    "elif 0 <= temperature < 10:\n",
    "    classification = \"Cold\"\n",
    "elif 10 <= temperature < 20:\n",
    "    classification = \"Cool\"\n",
    "elif 20 <= temperature < 30:\n",
    "    classification = \"Warm\"\n",
    "else:\n",
    "    classification = \"Hot\"\n",
    "\n",
    "print(\"The temperature is classified as:\", classification)"
   ]
  },
  {
   "cell_type": "markdown",
   "id": "8f9818bf",
   "metadata": {},
   "source": []
  },
  {
   "cell_type": "code",
   "execution_count": 2,
   "id": "e9aa031f",
   "metadata": {},
   "outputs": [
    {
     "name": "stdout",
     "output_type": "stream",
     "text": [
      "Enter 1st number12\n",
      "Enter 2nd number5\n",
      "17\n"
     ]
    }
   ],
   "source": [
    "a=int(input(\"Enter 1st number\")) #First input\n",
    "b=int(input(\"Enter 2nd number\"))  #2nd input \n",
    "c=a+b #processing(addition)\n",
    "print(c) #getting output"
   ]
  },
  {
   "cell_type": "code",
   "execution_count": null,
   "id": "eea3054c",
   "metadata": {},
   "outputs": [],
   "source": []
  }
 ],
 "metadata": {
  "kernelspec": {
   "display_name": "Python 3 (ipykernel)",
   "language": "python",
   "name": "python3"
  },
  "language_info": {
   "codemirror_mode": {
    "name": "ipython",
    "version": 3
   },
   "file_extension": ".py",
   "mimetype": "text/x-python",
   "name": "python",
   "nbconvert_exporter": "python",
   "pygments_lexer": "ipython3",
   "version": "3.11.4"
  }
 },
 "nbformat": 4,
 "nbformat_minor": 5
}
