{
 "cells": [
  {
   "cell_type": "markdown",
   "id": "b143714c",
   "metadata": {},
   "source": [
    "## Simple if"
   ]
  },
  {
   "cell_type": "code",
   "execution_count": 2,
   "id": "fba8fb14",
   "metadata": {},
   "outputs": [
    {
     "name": "stdout",
     "output_type": "stream",
     "text": [
      "enter age :19\n",
      "can vote\n"
     ]
    }
   ],
   "source": [
    "a=int(input(\"enter age :\"))\n",
    "if a>=18:\n",
    "    print(\"can vote\")\n",
    "else:\n",
    "    print(\"Not elgible for vote\")\n",
    "    "
   ]
  },
  {
   "cell_type": "markdown",
   "id": "eb736a3a",
   "metadata": {},
   "source": [
    "# If-else statement"
   ]
  },
  {
   "cell_type": "markdown",
   "id": "94458cca",
   "metadata": {},
   "source": [
    "### 1. Even and odd no. checker"
   ]
  },
  {
   "cell_type": "code",
   "execution_count": 4,
   "id": "39a1fd80",
   "metadata": {},
   "outputs": [
    {
     "name": "stdout",
     "output_type": "stream",
     "text": [
      "Enter a number: 4\n",
      "4 is an even number.\n"
     ]
    }
   ],
   "source": [
    "num = int(input(\"Enter a number: \"))\n",
    "\n",
    "if num % 2 == 0:\n",
    "    print(num,\"is an even number.\")\n",
    "else:\n",
    "    print(num,\" is an odd number.\")\n"
   ]
  },
  {
   "cell_type": "markdown",
   "id": "e703b533",
   "metadata": {},
   "source": [
    "### 2.check Age for voting"
   ]
  },
  {
   "cell_type": "code",
   "execution_count": 4,
   "id": "d2d606ee",
   "metadata": {},
   "outputs": [
    {
     "name": "stdout",
     "output_type": "stream",
     "text": [
      "Enter age: 5\n",
      "You are not eligible\n"
     ]
    }
   ],
   "source": [
    "a=int(input(\"Enter age: \"))\n",
    "if a>=18:\n",
    "    print(\"you can vote\")\n",
    "else:\n",
    "    print(\"You are not eligible\")\n"
   ]
  },
  {
   "cell_type": "markdown",
   "id": "7c2bf79d",
   "metadata": {},
   "source": [
    "### 3. larger of two numbers"
   ]
  },
  {
   "cell_type": "code",
   "execution_count": 8,
   "id": "81f79c5d",
   "metadata": {},
   "outputs": [
    {
     "name": "stdout",
     "output_type": "stream",
     "text": [
      "Enter the first number: 18\n",
      "Enter the second number: 25\n",
      "The larger number is: 25.0\n"
     ]
    }
   ],
   "source": [
    "num1 = float(input(\"Enter the first number: \"))\n",
    "num2 = float(input(\"Enter the second number: \"))\n",
    "\n",
    "if num1 > num2:\n",
    "    print(\"The larger number is:\", num1)\n",
    "else:\n",
    "    print(\"The larger number is:\", num2)\n"
   ]
  },
  {
   "cell_type": "markdown",
   "id": "de328349",
   "metadata": {},
   "source": [
    "### 4. smaller of two numbers"
   ]
  },
  {
   "cell_type": "code",
   "execution_count": 10,
   "id": "9baf284d",
   "metadata": {},
   "outputs": [
    {
     "name": "stdout",
     "output_type": "stream",
     "text": [
      "Enter the first number: 5\n",
      "Enter the second number: 2\n",
      "The smaller number is: 2.0\n"
     ]
    }
   ],
   "source": [
    "num1 = float(input(\"Enter the first number: \"))\n",
    "num2 = float(input(\"Enter the second number: \"))\n",
    "\n",
    "if num1 < num2:\n",
    "    print(\"The smaller number is:\", num1)\n",
    "else:\n",
    "    print(\"The smaller number is:\", num2)\n"
   ]
  },
  {
   "cell_type": "markdown",
   "id": "4cbd173c",
   "metadata": {},
   "source": [
    "### 5.write program to find minimum of three numberes"
   ]
  },
  {
   "cell_type": "code",
   "execution_count": 6,
   "id": "cf645ab9",
   "metadata": {},
   "outputs": [
    {
     "name": "stdout",
     "output_type": "stream",
     "text": [
      "5 is minimum\n"
     ]
    }
   ],
   "source": [
    "a=5\n",
    "b=7\n",
    "c=8\n",
    "if a<=b:\n",
    "    print(a,\"is minimum\")\n",
    "elif b<=c:\n",
    "    print(b,\" is minimum\")\n",
    "else:\n",
    "    print(c,\" is minimum\")\n",
    "    \n",
    "    "
   ]
  },
  {
   "cell_type": "markdown",
   "id": "25642724",
   "metadata": {},
   "source": [
    "### 6. Pass or Fail"
   ]
  },
  {
   "cell_type": "code",
   "execution_count": 12,
   "id": "a9c100f2",
   "metadata": {},
   "outputs": [
    {
     "name": "stdout",
     "output_type": "stream",
     "text": [
      "Enter the student's score: 50\n",
      "Pass\n"
     ]
    }
   ],
   "source": [
    "score = float(input(\"Enter the student's score: \"))\n",
    "\n",
    "if score >= 50:\n",
    "    print(\"Pass\")\n",
    "else:\n",
    "    print(\"Fail\")\n"
   ]
  },
  {
   "cell_type": "markdown",
   "id": "623c68d2",
   "metadata": {},
   "source": [
    "### 7.Leap year checker"
   ]
  },
  {
   "cell_type": "markdown",
   "id": "2d7683fe",
   "metadata": {},
   "source": [
    "A leap year is a year that contains an extra day, February 29\n",
    "\n",
    "The rules for determining whether a year is a leap year are as follows:\n",
    "\n",
    "- If a year is evenly divisible by 4, it is a leap year, except for:\n",
    "- Years that are evenly divisible by 100 are not leap years, unless:\n",
    "- Years that are evenly divisible by 400 are leap years."
   ]
  },
  {
   "cell_type": "code",
   "execution_count": 13,
   "id": "b16d784d",
   "metadata": {},
   "outputs": [
    {
     "name": "stdout",
     "output_type": "stream",
     "text": [
      "Enter a year: 2024\n",
      "Leap Year\n"
     ]
    }
   ],
   "source": [
    "year = int(input(\"Enter a year: \"))\n",
    "\n",
    "if (year % 4 == 0 and year % 100 != 0) or (year % 400 == 0):\n",
    "    print(\"Leap Year\")\n",
    "else:\n",
    "    print(\"Not a Leap Year\")\n"
   ]
  },
  {
   "cell_type": "code",
   "execution_count": null,
   "id": "f5d88ce5",
   "metadata": {},
   "outputs": [],
   "source": []
  },
  {
   "cell_type": "markdown",
   "id": "1d748c16",
   "metadata": {},
   "source": []
  },
  {
   "cell_type": "markdown",
   "id": "9f34a22a",
   "metadata": {},
   "source": []
  },
  {
   "cell_type": "code",
   "execution_count": null,
   "id": "0e7351ad",
   "metadata": {},
   "outputs": [],
   "source": []
  },
  {
   "cell_type": "code",
   "execution_count": null,
   "id": "42156f4d",
   "metadata": {},
   "outputs": [],
   "source": []
  },
  {
   "cell_type": "code",
   "execution_count": null,
   "id": "8826d465",
   "metadata": {},
   "outputs": [],
   "source": []
  }
 ],
 "metadata": {
  "kernelspec": {
   "display_name": "Python 3 (ipykernel)",
   "language": "python",
   "name": "python3"
  },
  "language_info": {
   "codemirror_mode": {
    "name": "ipython",
    "version": 3
   },
   "file_extension": ".py",
   "mimetype": "text/x-python",
   "name": "python",
   "nbconvert_exporter": "python",
   "pygments_lexer": "ipython3",
   "version": "3.11.4"
  }
 },
 "nbformat": 4,
 "nbformat_minor": 5
}
